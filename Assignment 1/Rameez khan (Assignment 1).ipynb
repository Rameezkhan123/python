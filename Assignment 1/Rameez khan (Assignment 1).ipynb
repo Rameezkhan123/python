{
 "cells": [
  {
   "cell_type": "code",
   "execution_count": 28,
   "id": "165822be",
   "metadata": {},
   "outputs": [
    {
     "name": "stdout",
     "output_type": "stream",
     "text": [
      "Twinkle, twinkle, little star,\n",
      "         How i wonder what you are|\n",
      "               Up above the world so high,\n",
      "               like a diamond in the sky.\n",
      "Twinkle,twinkle little star,\n",
      "         How i wonder what you are\n"
     ]
    }
   ],
   "source": [
    "# Twinkle Twinkle Poem\n",
    "\n",
    "print('''Twinkle, twinkle, little star,\n",
    "         How i wonder what you are|\n",
    "               Up above the world so high,\n",
    "               like a diamond in the sky.\n",
    "Twinkle,twinkle little star,\n",
    "         How i wonder what you are''')"
   ]
  },
  {
   "cell_type": "code",
   "execution_count": 11,
   "id": "d484f7e2",
   "metadata": {},
   "outputs": [
    {
     "name": "stdout",
     "output_type": "stream",
     "text": [
      "2022-01-01 08:49:41.104130\n"
     ]
    }
   ],
   "source": [
    "# Write the programe to Display the date and time.\n",
    "\n",
    "import datetime\n",
    "TodayDate = datetime.datetime.now()\n",
    "print(TodayDate)"
   ]
  },
  {
   "cell_type": "code",
   "execution_count": 13,
   "id": "e230719a",
   "metadata": {},
   "outputs": [
    {
     "name": "stdout",
     "output_type": "stream",
     "text": [
      "python version\n",
      "3.9.7 (default, Sep 16 2021, 16:59:28) [MSC v.1916 64 bit (AMD64)]\n"
     ]
    }
   ],
   "source": [
    "#Write a pythone programe to know the python version we are using.\n",
    "\n",
    "import sys\n",
    "print(\"python version\")\n",
    "print(sys.version)"
   ]
  },
  {
   "cell_type": "code",
   "execution_count": 33,
   "id": "6cf7993d",
   "metadata": {},
   "outputs": [
    {
     "name": "stdout",
     "output_type": "stream",
     "text": [
      "Rameez khan\n"
     ]
    }
   ],
   "source": [
    "# Write program whitch accept the user first and last name and print them in reserve order with a space between them.\n",
    "\n",
    "FirstName=\"Rameez\"\n",
    "LastName=\" khan\"\n",
    "print(FirstName+LastName)"
   ]
  },
  {
   "cell_type": "code",
   "execution_count": 27,
   "id": "0bf5eba4",
   "metadata": {},
   "outputs": [
    {
     "name": "stdout",
     "output_type": "stream",
     "text": [
      "23\n"
     ]
    }
   ],
   "source": [
    "# Write program whitch takes two inputs from user and print them addition.\n",
    "\n",
    "x=15;\n",
    "y=8;\n",
    "z=x+y;\n",
    "print(z)"
   ]
  },
  {
   "cell_type": "code",
   "execution_count": null,
   "id": "68bb2c6f",
   "metadata": {},
   "outputs": [],
   "source": []
  }
 ],
 "metadata": {
  "kernelspec": {
   "display_name": "Python 3 (ipykernel)",
   "language": "python",
   "name": "python3"
  },
  "language_info": {
   "codemirror_mode": {
    "name": "ipython",
    "version": 3
   },
   "file_extension": ".py",
   "mimetype": "text/x-python",
   "name": "python",
   "nbconvert_exporter": "python",
   "pygments_lexer": "ipython3",
   "version": "3.9.7"
  }
 },
 "nbformat": 4,
 "nbformat_minor": 5
}
